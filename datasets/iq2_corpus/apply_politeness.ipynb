{
 "cells": [
  {
   "cell_type": "code",
   "execution_count": 14,
   "metadata": {},
   "outputs": [],
   "source": [
    "from convokit import Corpus, politenessStrategies, Parser"
   ]
  },
  {
   "cell_type": "code",
   "execution_count": 15,
   "metadata": {},
   "outputs": [],
   "source": [
    "iq2 = Corpus(filename=\"./iq2_corpus\")\n",
    "anno = Parser()\n",
    "iq2 = anno.fit_transform(iq2)"
   ]
  },
  {
   "cell_type": "code",
   "execution_count": 16,
   "metadata": {},
   "outputs": [
    {
     "data": {
      "text/plain": [
       "<convokit.model.corpus.Corpus at 0x7f76546e39d0>"
      ]
     },
     "execution_count": 16,
     "metadata": {},
     "output_type": "execute_result"
    }
   ],
   "source": [
    "ps = politenessStrategies.PolitenessStrategies()\n",
    "ps.transform(iq2)"
   ]
  },
  {
   "cell_type": "code",
   "execution_count": 57,
   "metadata": {},
   "outputs": [
    {
     "name": "stdout",
     "output_type": "stream",
     "text": [
      "Conversation({'_owner': <convokit.model.corpus.Corpus object at 0x7f76546e39d0>, '_id': '0', '_utterance_ids': ['0', '1', '2', '3', '4', '5', '6', '7', '8', '9', '10', '11', '12', '13', '14', '15', '16', '17', '18', '19', '20', '21', '22', '23', '24', '25', '26', '27', '28', '29', '30', '31', '32', '33', '34', '35', '36', '37', '38', '39', '40', '41', '42', '43', '44', '45', '46', '47', '48', '49', '50', '51', '52', '53', '54', '55', '56', '57', '58', '59', '60', '61', '62', '63', '64', '65', '66', '67', '68', '69', '70', '71', '72', '73', '74', '75', '76', '77', '78', '79', '80', '81', '82', '83', '84', '85', '86', '87', '88', '89', '90', '91', '92', '93', '94', '95', '96', '97', '98', '99', '100', '101', '102', '103', '104', '105', '106', '107', '108', '109', '110', '111', '112', '113', '114', '115', '116', '117', '118', '119', '120', '121', '122', '123', '124', '125', '126', '127', '128', '129', '130', '131', '132', '133', '134', '135', '136', '137', '138', '139', '140', '141', '142', '143', '144', '145', '146', '147', '148', '149', '150', '151', '152', '153', '154', '155', '156', '157', '158', '159', '160', '161', '162', '163', '164', '165', '166', '167', '168', '169', '170', '171', '172', '173', '174', '175', '176', '177', '178', '179', '180', '181', '182', '183', '184', '185', '186', '187', '188', '189', '190', '191', '192', '193', '194', '195', '196', '197', '198', '199', '200', '201', '202', '203', '204', '205', '206', '207', '208', '209', '210', '211', '212', '213', '214', '215', '216', '217', '218', '219', '220', '221', '222', '223', '224', '225', '226', '227', '228', '229', '230', '231', '232', '233', '234', '235', '236', '237', '238', '239', '240', '241', '242', '243', '244', '245', '246', '247', '248', '249', '250', '251', '252', '253', '254', '255', '256', '257', '258', '259', '260', '261', '262', '263', '264', '265', '266', '267', '268', '269', '270', '271', '272', '273', '274', '275', '276', '277', '278', '279', '280', '281', '282', '283', '284', '285', '286', '287', '288', '289', '290', '291', '292', '293', '294', '295', '296', '297', '298', '299', '300', '301', '302', '303', '304', '305', '306', '307', '308', '309', '310', '311', '312', '313', '314', '315', '316', '317', '318', '319', '320', '321', '322', '323', '324', '325', '326', '327', '328', '329', '330', '331', '332', '333', '334', '335', '336', '337', '338', '339', '340', '341', '342', '343', '344', '345', '346', '347', '348', '349', '350', '351', '352', '353', '354', '355'], '_usernames': None, '_meta': {'summary': 'Debate description coming soon.', 'title': 'We Should Accept Performance-Enhancing Drugs in Competitive Sports', 'date': 'Tuesday, January 15, 2008', 'url': 'http://intelligencesquaredus.org/debates/past-debates/item/574-we-should-accept-performance-enhancing-drugs-in-competitive-sports', 'results': {'breakdown': None, 'post': {'undecided': 4.0, 'for': 37.0, 'against': 59.0}, 'pre': {'undecided': 19.0, 'for': 18.0, 'against': 63.0}}, 'speakers': {'for': [{'name': 'Radley Balko', 'bio': 'Previously, Balko was a policy analyst for the Cato Institute specializing in civil liberties issues, where he published a paper on alcohol policy and a groundbreaking study on paramilitary police raids. He writes a biweekly column for FoxNews.com and publishes the personal blog, TheAgitator.com.', 'bio_short': 'Senior Editor and Investigative Journalist for Reason magazine'}, {'name': 'Norman Fost', 'bio': 'Fost founded the Bioethics Program at the University of Wisconsin in 1973. He has published widely on ethical and legal issues in health care, and served on numerous federal committees, including President Clinton’s Health Care Task Force, and from 1994-1998 was an elected member of the Princeton University Board of Trustees.', 'bio_short': 'M.D., M.P.H., a Professor of Pediatrics and Bioethics at the University of Wisconsin, and Director of the Bioethics Program'}, {'name': 'Julian Savulescu', 'bio': 'Julian is director of the Oxford Uehiro Centre for Practical Ethics and of the Program on Ethics and Biosciences in the James Martin 21st Century School. He is also head of the Melbourne-Oxford Stem Cell Collaboration, which is devoted to examining the ethical implications of cloning and embryonic stem cell research. His areas of research include the ethics of genetics, research ethics, medical ethics, sports ethics, and the analytic philosophical basis of practical ethics.', 'bio_short': 'Uehiro Professor of Practical Ethics at the University of Oxford'}], 'moderator': {'name': 'Bob Costas', 'bio': None, 'bio_short': None}, 'against': [{'name': 'George Michael', 'bio': 'George pioneered the sports highlight shows that fill the airwaves today. He was the creator and host of the nationally syndicated Sports Machine, originally called Sports Final at its inception in 1980. During his 27 years as sports director at NBC4, he earned more than 40 Emmy Awards for excellence in broadcasting. Michael is the host of the award-winning Redskins Report, The Joe Gibbs Show and Full Court Press.', 'bio_short': 'Legendary Sportscaster'}, {'name': 'Dale Murphy', 'bio': 'Dale was a seven-time All-Star, five-time Golden Glove winner and two-time National League MVP with the Atlanta Braves. He started the iWon’t Cheat Foundation to help rid sports of drugs, and to educate kids about the dangers of performance-enhancing drugs and the ethical issues involved in using them.', 'bio_short': 'Former Major League Baseball Outfielder and Catcher'}, {'name': 'Richard Pound', 'bio': \"Richard has been named to Time magazine's 100 most influential people in the world for his relentless efforts to rid sport of performance-enhancing drugs. Pound was an Olympic finalist at the Games of the XVII Olympiad in Rome in 1960, is a 30-year member of the International Olympic Committee and is a former president of the Canadian Olympic Committee. He is currently the chancellor of McGill University in Montreal.\", 'bio_short': 'Chairman of the World Anti-Doping Agency and a Partner in the Canadian Law Firm, Stikeman Elliott'}]}}})\n"
     ]
    }
   ],
   "source": [
    "print(iq2.get_conversation(\"0\"))\n",
    "def determine_winner(conversation):\n",
    "    results = conversation.meta[\"results\"]\n",
    "    fordelta = results[\"post\"][\"for\"] - results[\"pre\"][\"for\"]\n",
    "    againstdelta = results[\"post\"][\"against\"] - results[\"pre\"][\"against\"]\n",
    "    if(fordelta > againstdelta):\n",
    "        return \"for\"\n",
    "    elif(againstdelta > fordelta):\n",
    "        return \"against\"\n",
    "    else:\n",
    "        return \"tie\"\n",
    "\n",
    "def determine_popular(conversation):\n",
    "    results = conversation.meta[\"results\"]\n",
    "    forpop = results[\"pre\"][\"for\"]\n",
    "    againstpop = results[\"pre\"][\"against\"]\n",
    "    if(forpop > againstpop + 20):\n",
    "        return \"for\"\n",
    "    elif(againstpop > forpop + 20):\n",
    "        return \"against\"\n",
    "    else:\n",
    "        return \"no significant advantage\"\n",
    "    "
   ]
  },
  {
   "cell_type": "code",
   "execution_count": 58,
   "metadata": {},
   "outputs": [],
   "source": [
    "pos = set(['feature_politeness_==Please==',\n",
    "           'feature_politeness_==Indirect_(btw)==',\n",
    "           'feature_politeness_==Apologizing==',\n",
    "           'feature_politeness_==Deference==',\n",
    "           'feature_politeness_==Gratitude==',\n",
    "           'feature_politeness_==Hedges==',\n",
    "           'feature_politeness_==1st_person_pl.==',\n",
    "           'feature_politeness_==1st_person==',\n",
    "           'feature_politeness_==1st_person_start==', \n",
    "           'feature_politeness_==2nd_person==', \n",
    "           'feature_politeness_==Indirect_(greeting)==',\n",
    "           'feature_politeness_==HASHEDGE==', \n",
    "           'feature_politeness_==HASPOSITIVE=='\n",
    "          ])\n",
    "\n",
    "neg = set(['feature_politeness_==Please_start==',\n",
    "           'feature_politeness_==Factuality==',\n",
    "           'feature_politeness_==Direct_question==',\n",
    "           'feature_politeness_==Direct_start==',\n",
    "           'feature_politeness_==2nd_person_start==',\n",
    "           'feature_politeness_==HASNEGATIVE=='\n",
    "          ])\n",
    "\n",
    "unsure = set(['feature_politeness_==SUBJUNCTIVE==',\n",
    "              'feature_politeness_==INDICATIVE=='\n",
    "             ])"
   ]
  },
  {
   "cell_type": "code",
   "execution_count": 59,
   "metadata": {},
   "outputs": [
    {
     "name": "stdout",
     "output_type": "stream",
     "text": [
      "debate tied; information not useful here\n",
      "initial popularity not very biased; information not useful here\n",
      "debate tied; information not useful here\n",
      "initial popularity not very biased; information not useful here\n",
      "initial popularity not very biased; information not useful here\n",
      "initial popularity not very biased; information not useful here\n",
      "initial popularity not very biased; information not useful here\n",
      "initial popularity not very biased; information not useful here\n",
      "debate tied; information not useful here\n",
      "initial popularity not very biased; information not useful here\n",
      "initial popularity not very biased; information not useful here\n",
      "initial popularity not very biased; information not useful here\n",
      "initial popularity not very biased; information not useful here\n",
      "initial popularity not very biased; information not useful here\n",
      "initial popularity not very biased; information not useful here\n",
      "initial popularity not very biased; information not useful here\n",
      "initial popularity not very biased; information not useful here\n",
      "initial popularity not very biased; information not useful here\n",
      "initial popularity not very biased; information not useful here\n",
      "initial popularity not very biased; information not useful here\n",
      "initial popularity not very biased; information not useful here\n",
      "initial popularity not very biased; information not useful here\n",
      "initial popularity not very biased; information not useful here\n",
      "initial popularity not very biased; information not useful here\n",
      "initial popularity not very biased; information not useful here\n",
      "initial popularity not very biased; information not useful here\n",
      "initial popularity not very biased; information not useful here\n",
      "initial popularity not very biased; information not useful here\n",
      "initial popularity not very biased; information not useful here\n",
      "initial popularity not very biased; information not useful here\n",
      "initial popularity not very biased; information not useful here\n",
      "initial popularity not very biased; information not useful here\n",
      "initial popularity not very biased; information not useful here\n",
      "initial popularity not very biased; information not useful here\n",
      "initial popularity not very biased; information not useful here\n",
      "initial popularity not very biased; information not useful here\n",
      "initial popularity not very biased; information not useful here\n",
      "initial popularity not very biased; information not useful here\n",
      "initial popularity not very biased; information not useful here\n",
      "initial popularity not very biased; information not useful here\n",
      "initial popularity not very biased; information not useful here\n",
      "initial popularity not very biased; information not useful here\n",
      "initial popularity not very biased; information not useful here\n",
      "initial popularity not very biased; information not useful here\n",
      "initial popularity not very biased; information not useful here\n",
      "initial popularity not very biased; information not useful here\n",
      "initial popularity not very biased; information not useful here\n",
      "initial popularity not very biased; information not useful here\n",
      "initial popularity not very biased; information not useful here\n",
      "initial popularity not very biased; information not useful here\n",
      "initial popularity not very biased; information not useful here\n",
      "initial popularity not very biased; information not useful here\n",
      "initial popularity not very biased; information not useful here\n",
      "initial popularity not very biased; information not useful here\n",
      "initial popularity not very biased; information not useful here\n",
      "initial popularity not very biased; information not useful here\n",
      "initial popularity not very biased; information not useful here\n"
     ]
    }
   ],
   "source": [
    "num_winner_utt, num_loser_utt = 0, 0\n",
    "num_winner_pos, num_loser_pos = 0, 0\n",
    "num_winner_neg, num_loser_neg = 0, 0\n",
    "\n",
    "num_pop_utt, num_unpop_utt = 0, 0\n",
    "num_pop_pos, num_unpop_pos = 0, 0\n",
    "num_pop_neg, num_unpop_neg = 0, 0\n",
    "\n",
    "for conv_root in iq2.get_conversation_ids():\n",
    "    conv = iq2.get_conversation(conv_root)\n",
    "    winner = determine_winner(conv)\n",
    "    if winner == \"tie\":\n",
    "        print(\"debate tied; information not useful here\")\n",
    "        pass\n",
    "    loser = \"against\" if winner == \"for\" else \"for\"\n",
    "    \n",
    "    pop = determine_popular(conv)\n",
    "    if pop == \"no significant advantage\":\n",
    "        print(\"initial popularity not very biased; information not useful here\")\n",
    "        pass\n",
    "    unpop = \"against\" if pop == \"for\" else \"for\"\n",
    "    \n",
    "    for utt_id in conv.get_utterance_ids():\n",
    "        utt = iq2.get_utterance(utt_id)\n",
    "        pos_used, neg_used = 0, 0\n",
    "        for strat in utt.meta[\"politeness_strategies\"].keys():\n",
    "            if strat in pos:\n",
    "                pos_used += utt.meta[\"politeness_strategies\"][strat]\n",
    "            elif strat in neg:\n",
    "                neg_used += utt.meta[\"politeness_strategies\"][strat]\n",
    "        if utt.meta[\"speakertype\"] == winner:\n",
    "            num_winner_utt += 1\n",
    "            num_winner_pos += pos_used\n",
    "            num_winner_neg += neg_used\n",
    "        elif utt.meta[\"speakertype\"] == loser:\n",
    "            num_loser_utt += 1\n",
    "            num_loser_pos += pos_used\n",
    "            num_loser_neg += neg_used\n",
    "        if utt.meta[\"speakertype\"] == pop:\n",
    "            num_pop_utt += 1\n",
    "            num_pop_pos += pos_used\n",
    "            num_pop_neg += neg_used\n",
    "        elif utt.meta[\"speakertype\"] == unpop:\n",
    "            num_unpop_utt += 1\n",
    "            num_unpop_pos += pos_used\n",
    "            num_unpop_neg += neg_used"
   ]
  },
  {
   "cell_type": "code",
   "execution_count": 60,
   "metadata": {},
   "outputs": [
    {
     "name": "stdout",
     "output_type": "stream",
     "text": [
      "Average number of polite strategies used per utterance by winner: 2.73\n",
      "Average number of impolite strategies used per utterance by winner: 1.32\n",
      "Average number of polite strategies used per utterance by loser: 2.74\n",
      "Average number of impolite strategies used per utterance by loser: 1.31\n",
      "\n",
      "\n",
      "\n",
      "Total number of winner utterances: 6848\n",
      "Total number of loser utterances: 6871\n",
      "\n",
      "\n",
      "\n",
      "Total number of politeness strategies used in winner utterances: 18723\n",
      "Total number of impoliteness strategies used in winner utterances: 9015\n",
      "Total number of politeness strategies used in loser utterances: 18851\n",
      "Total number of impoliteness strategies used in loser utterances: 8982\n",
      "-------------------------------------------------------------------------\n",
      "Average number of polite strategies used per utterance by popular side: 2.74\n",
      "Average number of impolite strategies used per utterance by popular side: 1.30\n",
      "Average number of polite strategies used per utterance by unpopular side: 2.76\n",
      "Average number of impolite strategies used per utterance by unpopular side: 1.33\n",
      "\n",
      "\n",
      "\n",
      "Total number of popular side utterances: 3406\n",
      "Total number of unpopular side utterances: 7052\n",
      "\n",
      "\n",
      "\n",
      "Total number of politeness strategies used in popular side utterances: 9325\n",
      "Total number of impoliteness strategies used in popular side utterances: 4435\n",
      "Total number of politeness strategies used in unpopular side utterances: 19466\n",
      "Total number of impoliteness strategies used in unpopular side utterances: 9365\n"
     ]
    }
   ],
   "source": [
    "print(\"Average number of polite strategies used per utterance by winner: {:0.2f}\".format(num_winner_pos / num_winner_utt) )\n",
    "print(\"Average number of impolite strategies used per utterance by winner: {:0.2f}\".format(num_winner_neg / num_winner_utt) )\n",
    "print(\"Average number of polite strategies used per utterance by loser: {:0.2f}\".format(num_loser_pos / num_loser_utt) )\n",
    "print(\"Average number of impolite strategies used per utterance by loser: {:0.2f}\".format(num_loser_neg / num_loser_utt) )\n",
    "print(\"\\n\\n\")\n",
    "print(\"Total number of winner utterances: \" + str(num_winner_utt))\n",
    "print(\"Total number of loser utterances: \" + str(num_loser_utt))\n",
    "print(\"\\n\\n\")\n",
    "print(\"Total number of politeness strategies used in winner utterances: \" + str(num_winner_pos))\n",
    "print(\"Total number of impoliteness strategies used in winner utterances: \" + str(num_winner_neg))\n",
    "print(\"Total number of politeness strategies used in loser utterances: \" + str(num_loser_pos))\n",
    "print(\"Total number of impoliteness strategies used in loser utterances: \" + str(num_loser_neg))\n",
    "print(\"-------------------------------------------------------------------------\")\n",
    "print(\"Average number of polite strategies used per utterance by popular side: {:0.2f}\".format(num_pop_pos / num_pop_utt) )\n",
    "print(\"Average number of impolite strategies used per utterance by popular side: {:0.2f}\".format(num_pop_neg / num_pop_utt) )\n",
    "print(\"Average number of polite strategies used per utterance by unpopular side: {:0.2f}\".format(num_unpop_pos / num_unpop_utt) )\n",
    "print(\"Average number of impolite strategies used per utterance by unpopular side: {:0.2f}\".format(num_unpop_neg / num_unpop_utt) )\n",
    "print(\"\\n\\n\")\n",
    "print(\"Total number of popular side utterances: \" + str(num_pop_utt))\n",
    "print(\"Total number of unpopular side utterances: \" + str(num_unpop_utt))\n",
    "print(\"\\n\\n\")\n",
    "print(\"Total number of politeness strategies used in popular side utterances: \" + str(num_pop_pos))\n",
    "print(\"Total number of impoliteness strategies used in popular side utterances: \" + str(num_pop_neg))\n",
    "print(\"Total number of politeness strategies used in unpopular side utterances: \" + str(num_unpop_pos))\n",
    "print(\"Total number of impoliteness strategies used in unpopular side utterances: \" + str(num_unpop_neg))"
   ]
  },
  {
   "cell_type": "code",
   "execution_count": null,
   "metadata": {},
   "outputs": [],
   "source": []
  }
 ],
 "metadata": {
  "kernelspec": {
   "display_name": "Python 3",
   "language": "python",
   "name": "python3"
  },
  "language_info": {
   "codemirror_mode": {
    "name": "ipython",
    "version": 3
   },
   "file_extension": ".py",
   "mimetype": "text/x-python",
   "name": "python",
   "nbconvert_exporter": "python",
   "pygments_lexer": "ipython3",
   "version": "3.7.4"
  }
 },
 "nbformat": 4,
 "nbformat_minor": 2
}
