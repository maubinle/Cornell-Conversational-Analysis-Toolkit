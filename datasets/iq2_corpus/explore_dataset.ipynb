{
 "cells": [
  {
   "cell_type": "markdown",
   "metadata": {},
   "source": [
    "# Explore Dataset\n",
    "## IQ2 Debates\n",
    "*Marianne Aubin Le Quere and Lucas Van Bramer*\n",
    "\n",
    "We are seeking to explore the basic tenets of our dataset. We will later be exploring complexity of language, so we will focus on something that comes quite close to this: word and sentence length."
   ]
  },
  {
   "cell_type": "markdown",
   "metadata": {},
   "source": [
    "## 1. Get averages\n",
    "First, we want to gather some basic average facts:\n",
    "  * What is the average word length in a debate?\n",
    "  * What is the average sentence length in a debate?\n",
    "  * What is the average utterance length in a debate?\n",
    "  * What is the variability of word, sentence, or utterance length depending on the segment of a debate?\n",
    "  * What is the variability of word, sentence, or utterance length depending on the speaker type of an utterance?"
   ]
  },
  {
   "cell_type": "code",
   "execution_count": 21,
   "metadata": {},
   "outputs": [],
   "source": [
    "# import required modules and set up environment\n",
    "import json\n",
    "import os\n",
    "\n",
    "# replace file path below with your own local convokit\n",
    "os.chdir('/Users/marianneaubin/Documents/Classes/CS6742/Cornell-Conversational-Analysis-Toolkit')\n",
    "import convokit"
   ]
  },
  {
   "cell_type": "code",
   "execution_count": 30,
   "metadata": {},
   "outputs": [],
   "source": [
    "# open created IQ2 corpus\n",
    "corpus = convokit.Corpus(filename='datasets/iq2_corpus/iq2_corpus')"
   ]
  },
  {
   "cell_type": "code",
   "execution_count": 48,
   "metadata": {},
   "outputs": [
    {
     "name": "stdout",
     "output_type": "stream",
     "text": [
      "Number of Users: 471\n",
      "Number of Utterances: 26562\n",
      "Number of Conversations: 108\n"
     ]
    }
   ],
   "source": [
    "# print basic info about the corpus\n",
    "corpus.print_summary_stats()"
   ]
  },
  {
   "cell_type": "code",
   "execution_count": 93,
   "metadata": {},
   "outputs": [
    {
     "name": "stdout",
     "output_type": "stream",
     "text": [
      "average number of words per utterance is 71.18\n",
      "average number of words per sentence is 14.61\n"
     ]
    }
   ],
   "source": [
    "import re\n",
    "\n",
    "# for each utterance, calculate how many words and sentences are in the utterance.\n",
    "utter_ids = corpus.get_utterance_ids()\n",
    "word_counts = []\n",
    "sentence_counts = []\n",
    "num_sentences = 0\n",
    "for utt_id in utter_ids:\n",
    "    utt = corpus.get_utterance(utt_id)\n",
    "    \n",
    "    #we simply use spaces to delineate words\n",
    "    words = utt.text.split()\n",
    "    word_count = len(words)\n",
    "    word_counts.append(word_count)\n",
    "    \n",
    "    #we use regex to separate sentences\n",
    "    sentences = re.split(r'[.!?]+', utt.text)\n",
    "    sentences = list(filter(None, sentences))\n",
    "    for sentence in sentences:\n",
    "        words_in_sentence = sentence.split()\n",
    "        words_in_sentence_count = len(words_in_sentence)\n",
    "        sentence_counts.append(words_in_sentence_count)\n",
    "        num_sentences = num_sentences + 1;\n",
    "        \n",
    "# get average word count per utterance\n",
    "word_len_sum = sum(word_counts)\n",
    "utt_num = len(list(corpus.iter_utterances()))\n",
    "avg_word_len = word_len_sum/utt_num\n",
    "print(\"average number of words per utterance is \" + str(round(avg_word_len,2)))\n",
    "\n",
    "# get average word count per sentence\n",
    "word_sent_len_sum = sum(sentence_counts)\n",
    "avg_sentence_len = word_sent_len_sum/num_sentences\n",
    "print(\"average number of words per sentence is \" + str(round(avg_sentence_len, 2)))\n",
    "\n"
   ]
  },
  {
   "cell_type": "code",
   "execution_count": null,
   "metadata": {},
   "outputs": [],
   "source": []
  }
 ],
 "metadata": {
  "kernelspec": {
   "display_name": "Python 3",
   "language": "python",
   "name": "python3"
  },
  "language_info": {
   "codemirror_mode": {
    "name": "ipython",
    "version": 3
   },
   "file_extension": ".py",
   "mimetype": "text/x-python",
   "name": "python",
   "nbconvert_exporter": "python",
   "pygments_lexer": "ipython3",
   "version": "3.7.3"
  }
 },
 "nbformat": 4,
 "nbformat_minor": 2
}
