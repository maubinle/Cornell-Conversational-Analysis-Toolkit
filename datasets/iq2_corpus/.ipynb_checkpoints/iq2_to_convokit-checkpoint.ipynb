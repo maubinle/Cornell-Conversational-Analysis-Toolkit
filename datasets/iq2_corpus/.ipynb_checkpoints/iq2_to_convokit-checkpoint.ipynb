{
 "cells": [
  {
   "cell_type": "markdown",
   "metadata": {},
   "source": [
    "# IQ2 Dataset to Convokit format conversion script\n",
    "Marianne Aubin Le Quere and Lucas Van Bramer"
   ]
  },
  {
   "cell_type": "code",
   "execution_count": 41,
   "metadata": {},
   "outputs": [],
   "source": [
    "# if needed, change directory to find convokit location\n",
    "\n",
    "# import required modules and set up environment\n",
    "import os\n",
    "\n",
    "# replace file path below with your own local convokit\n",
    "os.chdir('/Users/marianneaubin/Documents/Classes/CS6742/Cornell-Conversational-Analysis-Toolkit')\n",
    "import convokit"
   ]
  },
  {
   "cell_type": "code",
   "execution_count": 42,
   "metadata": {},
   "outputs": [],
   "source": [
    "from convokit import Corpus, User, Utterance\n",
    "from tqdm import tqdm\n",
    "import json"
   ]
  },
  {
   "cell_type": "code",
   "execution_count": 43,
   "metadata": {},
   "outputs": [],
   "source": [
    "# generates all of the users who are listed in the metadata of a specific debate's \"speakers\" field\n",
    "# args: debate_id is a key used by the iq2 dataset, e.g. \"PerformanceEnhancingDrugs-011508\"\n",
    "# returns: a dictionary in which keys are speakers' full names and values are dictionaries containing metadata\n",
    "def generate_users(debate_id):\n",
    "    debate = iq2[debate_id]\n",
    "    users = {}\n",
    "    for stance in [\"for\", \"against\"]:\n",
    "        for speaker in debate[\"speakers\"][stance]:\n",
    "            meta = {}\n",
    "            meta[\"stance\"] = stance\n",
    "            meta[\"bio\"] = speaker[\"bio\"]\n",
    "            meta[\"bio_short\"] = speaker[\"bio_short\"]\n",
    "            users[speaker[\"name\"]] = meta\n",
    "    mod = debate[\"speakers\"][\"moderator\"]\n",
    "    modmeta = {}\n",
    "    modmeta[\"bio\"] = mod[\"bio\"]\n",
    "    modmeta[\"bio_short\"] = mod[\"bio_short\"]\n",
    "    modmeta[\"stance\"] = None\n",
    "    users[mod[\"name\"]] = modmeta\n",
    "    users[\"audience\"] = {\"bio\": None, \"bio_short\": None, \"stance\": None}\n",
    "    return users"
   ]
  },
  {
   "cell_type": "code",
   "execution_count": 44,
   "metadata": {},
   "outputs": [],
   "source": [
    "# generates all of the users in the iq2 dataset \n",
    "# args: dataset is the python object containing the iq2 dataset parsed from json\n",
    "# returns: a dictionary in which keys are speakers' full names and values are dictionaries containing metadata\n",
    "def generate_all_users_convokit(dataset):\n",
    "    all_users = {}\n",
    "    for debate_id in dataset.keys():\n",
    "        res = generate_users(debate_id)\n",
    "        for fullname, usermeta in res.items():\n",
    "            all_users[fullname] = usermeta\n",
    "    print(str(len(all_users.keys())) + \" users generated.\")\n",
    "    convokit_all_users = {k: User(name = k, meta = v) for k,v in all_users.items()}\n",
    "    return convokit_all_users"
   ]
  },
  {
   "cell_type": "code",
   "execution_count": 45,
   "metadata": {},
   "outputs": [],
   "source": [
    "# generates all of the convokit utterances from the iq2 dataset \n",
    "# args: dataset is the python object containing the iq2 dataset parsed from json\n",
    "# precondition: corpus_users must be populated in the jupyter environment because it is called from and modified here\n",
    "# returns: convokit corpus representation of iq2 dataset\n",
    "def generate_utterance_corpus_from_dataset(dataset, v):\n",
    "    utt_id = 0\n",
    "    utterance_corpus = {}\n",
    "    for conversation_id in dataset.keys():\n",
    "        conversation = dataset[conversation_id]\n",
    "        \n",
    "        # set root of the conversation to the first utterance id in the conversation\n",
    "        convo_root = utt_id\n",
    "        for turn in conversation[\"transcript\"]:\n",
    "            utterance = {}\n",
    "            utterance[\"id\"] = str(utt_id)\n",
    "            utterance[\"root\"] = str(convo_root)\n",
    "            \n",
    "            utterance[\"timestamp\"] = None\n",
    "            meta = {\n",
    "                    \"nontext\": turn[\"nontext\"], \n",
    "                    \"segment\": turn[\"segment\"],\n",
    "                    \"speakertype\": turn[\"speakertype\"],\n",
    "                    \"debateid\": conversation_id\n",
    "                   } \n",
    "            utterance[\"meta\"] = meta\n",
    "            \n",
    "            # sets replied-to utterance to always be the last utterance\n",
    "            utterance[\"reply_to\"] = utt_id - 1 \n",
    "            \n",
    "            # text is originally stored as a list of strings; this concatenates them into one string\n",
    "            fulltext = \"\".join(turn[\"paragraphs\"])\n",
    "            utterance[\"text\"] = fulltext\n",
    "            \n",
    "            # \"unknown\" speakers are generally the audience\n",
    "            utterance[\"user\"] = turn[\"speaker\"] if turn[\"speakertype\"] != \"unknown\" else \"audience\"\n",
    "            \n",
    "            # in the case that a speaker in the text is not a speaker contained in the debate\n",
    "            # metadata, adds a speaker with the same schema but no metadata to the corpus users\n",
    "            if turn[\"speaker\"] not in corpus_users:\n",
    "                meta = {}\n",
    "                meta[\"stance\"] = None\n",
    "                meta[\"bio\"] = None\n",
    "                meta[\"bio_short\"] = None\n",
    "                corpus_users[turn[\"speaker\"]] = User(name=turn[\"speaker\"], meta=meta)\n",
    "                \n",
    "            # adds convokit utterance to corpus object\n",
    "            utterance_corpus[utterance[\"id\"]] = \\\n",
    "                Utterance(utterance[\"id\"], \n",
    "                          corpus_users[utterance[\"user\"]],\n",
    "                          utterance[\"root\"],\n",
    "                          utterance[\"reply_to\"],\n",
    "                          utterance[\"timestamp\"],\n",
    "                          utterance[\"text\"],\n",
    "                          meta=utterance[\"meta\"]\n",
    "                         )\n",
    "            # increments utterance id\n",
    "            utt_id += 1\n",
    "            \n",
    "    # converts utterance dictionary into convokit format \n",
    "    corpus = Corpus(utterances=[utt for _, utt in utterance_corpus.items()], version=v)\n",
    "    return corpus"
   ]
  },
  {
   "cell_type": "code",
   "execution_count": 46,
   "metadata": {},
   "outputs": [
    {
     "name": "stdout",
     "output_type": "stream",
     "text": [
      "/Users/marianneaubin/Documents/Classes/CS6742/Cornell-Conversational-Analysis-Toolkit\n",
      "108 debates loaded.\n"
     ]
    }
   ],
   "source": [
    "# replace open location with where the dataset is\n",
    "\n",
    "!pwd\n",
    "file = open('../IQ2/iq2_data_release/iq2_data_release.json')\n",
    "iq2 = json.load(file)\n",
    "print(str(len(iq2.keys())) + \" debates loaded.\")"
   ]
  },
  {
   "cell_type": "code",
   "execution_count": 47,
   "metadata": {},
   "outputs": [
    {
     "name": "stdout",
     "output_type": "stream",
     "text": [
      "470 users generated.\n"
     ]
    }
   ],
   "source": [
    "corpus_users = generate_all_users_convokit(iq2)\n",
    "iq2_corpus = generate_utterance_corpus_from_dataset(iq2, 1)\n",
    "iq2_corpus.meta[\"name\"] = \"IQ2 Debate Corpus\""
   ]
  },
  {
   "cell_type": "code",
   "execution_count": 48,
   "metadata": {},
   "outputs": [],
   "source": [
    "# this generates conversation metadata based on each debate and updates the corpus conversation instances\n",
    "for conv_id in iq2_corpus.get_conversation_ids():\n",
    "    conv = iq2_corpus.get_conversation(conv_id)\n",
    "    first_utt = iq2_corpus.get_utterance(conv.get_utterance_ids()[0])\n",
    "    debate = iq2[first_utt.meta[\"debateid\"]]\n",
    "    debate_meta = {}\n",
    "    debate_meta[\"summary\"] = debate[\"summary\"]\n",
    "    debate_meta[\"title\"] = debate[\"title\"]\n",
    "    debate_meta[\"date\"] = debate[\"date\"]\n",
    "    debate_meta[\"url\"] = debate[\"url\"]\n",
    "    debate_meta[\"results\"] = debate[\"results\"]\n",
    "    debate_meta[\"speakers\"] = debate[\"speakers\"]\n",
    "    conv.meta = debate_meta"
   ]
  },
  {
   "cell_type": "code",
   "execution_count": 49,
   "metadata": {},
   "outputs": [],
   "source": [
    "# this function determines, given a conversation, which is the winner\n",
    "\n",
    "def determine_winner(conversation):\n",
    "    results = conversation.meta[\"results\"]\n",
    "    fordelta = results[\"post\"][\"for\"] - results[\"pre\"][\"for\"]\n",
    "    againstdelta = results[\"post\"][\"against\"] - results[\"pre\"][\"against\"]\n",
    "    if(fordelta > againstdelta):\n",
    "        return \"for\"\n",
    "    elif(againstdelta > fordelta):\n",
    "        return \"against\"\n",
    "    else:\n",
    "        return \"tie\""
   ]
  },
  {
   "cell_type": "code",
   "execution_count": 50,
   "metadata": {},
   "outputs": [],
   "source": [
    "for conv_id in iq2_corpus.get_conversation_ids():\n",
    "    conv = iq2_corpus.get_conversation(conv_id)\n",
    "    conv.meta[\"winner\"] = determine_winner(conv)"
   ]
  },
  {
   "cell_type": "code",
   "execution_count": 51,
   "metadata": {},
   "outputs": [
    {
     "name": "stdout",
     "output_type": "stream",
     "text": [
      "Number of Users: 471\n",
      "Number of Utterances: 26562\n",
      "Number of Conversations: 108\n"
     ]
    }
   ],
   "source": [
    "# prints summary stats and dumps the corpus to file\n",
    "iq2_corpus.print_summary_stats()\n",
    "iq2_corpus.dump(\"iq2_corpus\")"
   ]
  },
  {
   "cell_type": "code",
   "execution_count": null,
   "metadata": {},
   "outputs": [],
   "source": []
  }
 ],
 "metadata": {
  "kernelspec": {
   "display_name": "Python 3",
   "language": "python",
   "name": "python3"
  },
  "language_info": {
   "codemirror_mode": {
    "name": "ipython",
    "version": 3
   },
   "file_extension": ".py",
   "mimetype": "text/x-python",
   "name": "python",
   "nbconvert_exporter": "python",
   "pygments_lexer": "ipython3",
   "version": "3.7.3"
  }
 },
 "nbformat": 4,
 "nbformat_minor": 2
}
