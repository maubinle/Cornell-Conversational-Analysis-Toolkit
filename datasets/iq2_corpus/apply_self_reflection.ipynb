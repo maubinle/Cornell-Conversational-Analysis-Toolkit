{
 "cells": [
  {
   "cell_type": "code",
   "execution_count": 1,
   "metadata": {},
   "outputs": [],
   "source": [
    "# import required modules and set up environment\n",
    "import os\n",
    "# replace file path below with your own local convokit\n",
    "os.chdir('/home/lucas/Cornell-Conversational-Analysis-Toolkit')\n",
    "import convokit\n",
    "\n",
    "from convokit import Corpus, Parser, elfTracker, Transformer\n",
    "import nltk"
   ]
  },
  {
   "cell_type": "code",
   "execution_count": 2,
   "metadata": {},
   "outputs": [],
   "source": [
    "iq2 = convokit.Corpus(filename='datasets/iq2_corpus/iq2_corpus')"
   ]
  },
  {
   "cell_type": "code",
   "execution_count": 3,
   "metadata": {},
   "outputs": [
    {
     "name": "stdout",
     "output_type": "stream",
     "text": [
      "Number of Users: 471\n",
      "Number of Utterances: 26562\n",
      "Number of Conversations: 108\n"
     ]
    }
   ],
   "source": [
    "iq2.print_summary_stats()"
   ]
  },
  {
   "cell_type": "code",
   "execution_count": 5,
   "metadata": {},
   "outputs": [],
   "source": [
    "self_transform = SelfTracker()"
   ]
  },
  {
   "cell_type": "code",
   "execution_count": 6,
   "metadata": {},
   "outputs": [],
   "source": [
    "compl = self_transform.transform(iq2)"
   ]
  },
  {
   "cell_type": "code",
   "execution_count": 7,
   "metadata": {},
   "outputs": [
    {
     "name": "stdout",
     "output_type": "stream",
     "text": [
      "Number of Users: 471\n",
      "Number of Utterances: 26562\n",
      "Number of Conversations: 108\n"
     ]
    }
   ],
   "source": [
    "compl.print_summary_stats()"
   ]
  },
  {
   "cell_type": "code",
   "execution_count": 9,
   "metadata": {},
   "outputs": [
    {
     "name": "stdout",
     "output_type": "stream",
     "text": [
      "Gentlemen, let me pull something out of the exchange we've just been through and bring to Mark Zandi. Basically, Glenn Hubbard was saying that he understood what your aspirations were for funding certain kinds of government programs that would be restorative of education, et cetera, and he said that you can't get it from the wealthy, that if-- politically, you can't get it, you can't raise rates to that degree for the reason that Bob gave because it's a closed loop. I want to know economically could you get it, because their argument is that economically you can't because the behavior of the wealthy would change in such a way that they just wouldn't-- they wouldn't participate. Number one, they wouldn't participate-- they would move their money offshore, and they wouldn't invest here. And that's kind of the core of their argument. Can you take that on?\n",
      "3\n",
      "John, you asked me, \"Why is it relevant that in two years, that is, 1928, and 2007, the rich took home the highest percentage of total income that they've taken--\n",
      "1\n",
      "…the Emancipation Proclamation. World War II was followed by the Warren Court. The last point: complacency, I think, is the real enemy. Even having this debate is a show, a sign of the confidence we have that our system is working. But we should be aware that we’re fighting a different kind of enemy, a non- nation state that conceals its activities as normal civilian communications, as normal civilian travel. The hard thing is how, as a society do we fight that, fight a war against an enemy who is not following the rules of war and tries to disguise itself as one of us. I’ll close by saying I think so far we have made a successful balance between civil liberties and security. We have reduced attacks and threats on the country. I think those gains have been worth it. And the question is, I think, for all of us today, is whether we would feel comfortable reducing the amount of government powers and by doing so, give up some of the security we’ve bought at such a, I think, dear price since 9/11. Thank you.\n",
      "17\n",
      "So I've read a lot of Dr. Barnard's studies, and I'm very impressed by the way that they're designed and the way that they're reported. But if you look at the data, what I think Dr. Barnard has clearly shown is that the metabolic effects and the improvements in almost every health measure are due to weight loss. And what Dr. Barnard has created is a run-of-the-mill, weight-loss diet with mediocre efficacy, where there's lots of positive effects due mostly to the weight loss that occurs in the first three to six months and then starts creeping back up. And if you –\n",
      "3\n",
      "Thank you, thank you. And may I invite one more round of applause for Robert Rosenkranz for bringing this to us. If you ask, \"do the rich pay their fair in taxes?\" you really do have to ask a couple of other questions. You’ve got to ask, well, what do you mean by rich?How much, how much is rich? How much money does that take? And, what do we mean by \"enough\"? Now, consider that to be counted in the top 1 percent of earners in America, you need to be making approximately $380,000 a year. Consider, also, that that 1 percent pays more than a third, as of 2009, pays more than a third of all of the federal income tax that comes in to the federal government. Is that too much? Is that too little? Well, let's make a debate of it. True or false, the rich are taxed enough. Another debate from Intelligence Squared U.S., I'm John Donvan, we have four superbly qualified debaters who will be arguing for, and against, this motion: The Rich Are Taxed Enough. They go in three rounds and then the audience votes to choose a winner, and only one side wins. Our debaters include, on the side arguing for the motion, Glenn Hubbard, Dean of Columbia Business School and economic advisor to Mitt Romney. Your partner it Art Laffer, he is best known for the Laffer Curve, one of the main theoretical constructs of supply side economics. On the side arguing against the motion, Robert Reich, he's a professor at UC Berkeley and former Secretary of Labor in the Clinton administration. And his partner, Mark Zandi, he's chief economist of Moody's Analytics. Our motion is this: The Rich Are Taxed Enough. Let's meet our debaters and welcome first, Glenn Hubbard. Glenn, you are dean of the Columbia Business School, you are also-- throughout 2012, you've been advisor to Mitt Romney's campaign. Recently you were profiled in The New York Times, and you were described there as, \"succinct, authoritative, and unabashedly partisan.\"I want to know, is that fair? Are you unabashedly partisan? And could you be succinct and authoritative?\n",
      "9\n",
      "Well, over half of my ninth graders last year refused to take the Common Core test when they were in eighth grade, with their parents' permission. So, I think it's safe to say they're not fans.\n",
      "2\n"
     ]
    }
   ],
   "source": [
    "for i in [513, 461, 1436, 8635, 368, 9756]:\n",
    "    print(compl.utterances[str(i)].text)\n",
    "    print(compl.utterances[str(i)].meta[\"num_self_invocations\"])"
   ]
  },
  {
   "cell_type": "code",
   "execution_count": null,
   "metadata": {},
   "outputs": [],
   "source": []
  }
 ],
 "metadata": {
  "kernelspec": {
   "display_name": "Python 3",
   "language": "python",
   "name": "python3"
  },
  "language_info": {
   "codemirror_mode": {
    "name": "ipython",
    "version": 3
   },
   "file_extension": ".py",
   "mimetype": "text/x-python",
   "name": "python",
   "nbconvert_exporter": "python",
   "pygments_lexer": "ipython3",
   "version": "3.7.3"
  }
 },
 "nbformat": 4,
 "nbformat_minor": 2
}
